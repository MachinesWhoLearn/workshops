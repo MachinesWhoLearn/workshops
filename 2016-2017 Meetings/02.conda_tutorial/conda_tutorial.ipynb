{
 "cells": [
  {
   "cell_type": "markdown",
   "metadata": {
    "slideshow": {
     "slide_type": "slide"
    }
   },
   "source": [
    "# Intro to Python Package / Environment Management with Anaconda\n",
    "\n",
    "![Conda Logo](https://camo.githubusercontent.com/fad01f2c15a7fc0326d7e9cc816f46757fc86ed8/68747470733a2f2f73332e616d617a6f6e6177732e636f6d2f636f6e64612d6465762f636f6e64615f6c6f676f2e737667)\n",
    "\n",
    "### Nelson Liu\n",
    "### Oct. 17, 2016"
   ]
  },
  {
   "cell_type": "markdown",
   "metadata": {
    "slideshow": {
     "slide_type": "slide"
    }
   },
   "source": [
    "# What is Anaconda (conda) anyway?\n",
    "\n",
    "- A distribution of Python that comes with two handy tools for environment and package management, `conda-env` and `conda`, respectively.\n",
    "- Makes it easy to create, reproduce, and export your development requirements\n",
    "- Easily use multiple python versions on the same machine!\n",
    "- Handles native dependencies (C/C++/Cython) very well by using binaries\n",
    "  - this is important, since numpy, scipy, scikit-learn etc. all have parts written in C for speed!\n",
    "- Optimized for scientific python\n",
    "- [Open source](https://github.com/conda/conda), extremely actively developed, (mostly) compatible with `pip`"
   ]
  },
  {
   "cell_type": "markdown",
   "metadata": {
    "slideshow": {
     "slide_type": "slide"
    }
   },
   "source": [
    "# `virtualenv`, `pip`, and `conda`\n",
    "- `virtualenv` is an environment manager for Python\n",
    "- `pip` is a package manager for Python\n",
    "- `conda` does both!\n",
    "-  [table comparing `virtualenv`, `pip`, and `conda`](http://conda.pydata.org/docs/_downloads/conda-pip-virtualenv-translator.html)\n",
    "- you can still use packages that are on pip in conda, but it's preferable to use conda\n",
    "  - conda gives you the flexibility to use pip when you need it!"
   ]
  },
  {
   "cell_type": "markdown",
   "metadata": {
    "slideshow": {
     "slide_type": "slide"
    }
   },
   "source": [
    "# Why Bother?\n",
    "\n",
    "Many systems nowadays come equipped with Python, so why should I use something else?"
   ]
  },
  {
   "cell_type": "markdown",
   "metadata": {
    "slideshow": {
     "slide_type": "slide"
    }
   },
   "source": [
    "# The Philosophy Behind Environments\n",
    "\n",
    "- Each conda environment is separated from your default system install\n",
    "  - no risk of messing up dependencies or system python, e.g. with `sudo pip install`\n",
    "- Separate dependencies for every project, avoiding dependency conflicts\n",
    "- easy to reproduce and recreate environments\n",
    "  - this is super important! It ensures that your results and analyses are reproducible by other people.\n",
    "- experiment quickly with different package and python versions"
   ]
  },
  {
   "cell_type": "markdown",
   "metadata": {
    "slideshow": {
     "slide_type": "slide"
    }
   },
   "source": [
    "# Miniconda vs Anaconda\n",
    "\n",
    "- Both contain Python, the `conda` package manager, and the `conda-env` environment manager\n",
    "- Anaconda also has [150 popular scientific packages built-in](http://docs.continuum.io/anaconda/pkg-docs.html)\n",
    "\n",
    "## Which should I choose?\n",
    "- My personal preference, Miniconda is ideal for people who want a minimal installation and to manage their own set of packages\n",
    "- Anaconda much larger, takes longer to setup and download.\n",
    "- We'll use miniconda for the purposes of this tutorial, since it's fast to setup."
   ]
  },
  {
   "cell_type": "markdown",
   "metadata": {
    "slideshow": {
     "slide_type": "slide"
    }
   },
   "source": [
    "# Miniconda 2 vs Miniconda 3\n",
    "\n",
    "- Miniconda 2.x uses Python 2.x by default while Miniconda 3.x uses Python 3.x by default\n",
    "- However, you can still create Python 2 or 3 environments in either!\n",
    "- Pick whichever one you want to be your \"default\" Python\n",
    "  - Python 2 vs 3 is another long discussion, see [Python2orPython3](https://wiki.python.org/moin/Python2orPython3)"
   ]
  },
  {
   "cell_type": "markdown",
   "metadata": {
    "slideshow": {
     "slide_type": "slide"
    }
   },
   "source": [
    "# Downloading and Installing Conda\n",
    "\n",
    "- Get Miniconda [here](http://conda.pydata.org/miniconda.html)\n",
    "  - Make sure to pick the right version for your machine and OS, and whatever Python version you want as default!\n",
    "  \n",
    "- Windows: Just run the .exe. If unsure about any settings, the defaults are fine.\n",
    "- Mac and Linux: Open your terminal, and navigate to where the file was downloaded (`cd ~/Downloads` should do by default). Run the file by running `bash [filename]`, e.g. `bash Miniconda3-latest-MacOSX-x86_64.sh`. Follow the instructions that appear in order to install."
   ]
  },
  {
   "cell_type": "markdown",
   "metadata": {
    "slideshow": {
     "slide_type": "slide"
    }
   },
   "source": [
    "# Did it work?\n",
    "\n",
    "- After you've finished, restart your terminal if applicable.\n",
    "- Run `conda info` in the command prompt or terminal to verify that it installed correctly.\n",
    "- **Important: Run `conda update conda` to get the latest version of conda!**\n"
   ]
  },
  {
   "cell_type": "markdown",
   "metadata": {
    "slideshow": {
     "slide_type": "slide"
    }
   },
   "source": [
    "# Setting up your environment\n",
    "\n",
    "- Windows: use either the `cmd` prompt, `cygwin` (if installed), or the `Anaconda Prompt`\n",
    "- OSX / Linux: use your favorite terminal\n",
    "- When the terminal opens, it starts in the `root` conda environment!"
   ]
  },
  {
   "cell_type": "markdown",
   "metadata": {
    "slideshow": {
     "slide_type": "slide"
    }
   },
   "source": [
    "# Commands for working with conda environments\n",
    "|Command    | Operation|\n",
    "|-----------|----------|\n",
    "|`conda create -n <env_name>` | create a new conda environment|\n",
    "|`source activate <env_name>` (OSX/Linux) <br> `activate <env_name>` (Windows) | activate a conda environent|\n",
    "|`source deactivate` (OSX/Linux) <br> `deactivate` (Windows) | deactivate the current environment|\n",
    "|`conda env remove -n <env_name>` | remove conda environment called `<env_name>` environment|"
   ]
  },
  {
   "cell_type": "markdown",
   "metadata": {
    "slideshow": {
     "slide_type": "slide"
    }
   },
   "source": [
    "# Let's create a new environment for MWL"
   ]
  },
  {
   "cell_type": "markdown",
   "metadata": {
    "slideshow": {
     "slide_type": "fragment"
    }
   },
   "source": [
    "```\n",
    "conda create -n mwl\n",
    "```"
   ]
  },
  {
   "cell_type": "markdown",
   "metadata": {
    "slideshow": {
     "slide_type": "slide"
    }
   },
   "source": [
    "# Activate this environment, and view what's inside"
   ]
  },
  {
   "cell_type": "markdown",
   "metadata": {
    "slideshow": {
     "slide_type": "fragment"
    }
   },
   "source": [
    "```\n",
    "source activate mwl\n",
    "conda list\n",
    "```"
   ]
  },
  {
   "cell_type": "markdown",
   "metadata": {
    "slideshow": {
     "slide_type": "slide"
    }
   },
   "source": [
    "# Commands for working with conda packages\n",
    "| Command                    | Function                                                   |\n",
    "|----------------------------|------------------------------------------------------------|\n",
    "| `conda env list`             | List all conda environment                                 |\n",
    "| `conda list`                 | List all conda packages                                    |\n",
    "| `conda install package_name` | Install a package called package_name                      |\n",
    "| `conda remove package_name`  | Remove a package called package_name                       |\n",
    "| `conda update package_name`  | Update a package called package_name to the latest version |\n",
    "| `conda update conda`         | Use conda to update conda / Anaconda                       |"
   ]
  },
  {
   "cell_type": "markdown",
   "metadata": {
    "slideshow": {
     "slide_type": "slide"
    }
   },
   "source": [
    "# Install scikit-learn and its dependencies"
   ]
  },
  {
   "cell_type": "markdown",
   "metadata": {
    "slideshow": {
     "slide_type": "fragment"
    }
   },
   "source": [
    " ```\n",
    "conda install numpy scipy cython scikit-learn\n",
    "```"
   ]
  },
  {
   "cell_type": "markdown",
   "metadata": {
    "slideshow": {
     "slide_type": "fragment"
    }
   },
   "source": [
    "## Let's get matplotlib while we're at it so we can visualize data later"
   ]
  },
  {
   "cell_type": "markdown",
   "metadata": {
    "slideshow": {
     "slide_type": "fragment"
    }
   },
   "source": [
    "```\n",
    "conda install matplotlib\n",
    "```"
   ]
  },
  {
   "cell_type": "markdown",
   "metadata": {
    "slideshow": {
     "slide_type": "slide"
    }
   },
   "source": [
    "# When you're done with this environment\n",
    "\n",
    "- Run `source deactivate` (OSX and Linux) or `deactivate` to go back to the root.\n",
    "- From here, you can activate the env again by running `source activate <envname>` (OSX and Linux) or `activate <envname>` (windows)"
   ]
  },
  {
   "cell_type": "markdown",
   "metadata": {
    "slideshow": {
     "slide_type": "slide"
    }
   },
   "source": [
    "# Questions?\n",
    "\n",
    "- [conda docs](http://conda.pydata.org/docs/index.html)\n",
    "- [conda command cheat sheet](http://conda.pydata.org/docs/_downloads/conda-cheatsheet.pdf)"
   ]
  }
 ],
 "metadata": {
  "anaconda-cloud": {},
  "celltoolbar": "Slideshow",
  "kernelspec": {
   "display_name": "Python [conda env:jupyter]",
   "language": "python",
   "name": "conda-env-jupyter-py"
  },
  "language_info": {
   "codemirror_mode": {
    "name": "ipython",
    "version": 2
   },
   "file_extension": ".py",
   "mimetype": "text/x-python",
   "name": "python",
   "nbconvert_exporter": "python",
   "pygments_lexer": "ipython2",
   "version": "2.7.12"
  }
 },
 "nbformat": 4,
 "nbformat_minor": 1
}
