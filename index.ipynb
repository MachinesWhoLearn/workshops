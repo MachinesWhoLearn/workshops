{
 "cells": [
  {
   "cell_type": "markdown",
   "metadata": {},
   "source": [
    "# Table of Contents\n",
    "This index notebook serves as a table of contents for live notebooks hosted on [Binder](http://mybinder.org/)"
   ]
  },
  {
   "cell_type": "markdown",
   "metadata": {},
   "source": [
    "### 2016 - 2017\n",
    "[pca-mnist](./2016-2017.Meetings/01.pca-mnist.ipynb)\n",
    "\n",
    "[hello_machine2.ipynb](./2016-2017.Meetings/02.hello_machine2.ipynb)\n",
    "\n",
    "[naive_bayes_tweet_classifier_solution.ipynb](./2016-2017.Meetings/05.DIY_naive_bayes/naive_bayes_classifier_solution/naive_bayes_tweet_classifier.ipynb)"
   ]
  },
  {
   "cell_type": "code",
   "execution_count": null,
   "metadata": {
    "collapsed": true
   },
   "outputs": [],
   "source": []
  }
 ],
 "metadata": {
  "anaconda-cloud": {},
  "kernelspec": {
   "display_name": "Python [conda env:mwl]",
   "language": "python",
   "name": "conda-env-mwl-py"
  },
  "language_info": {
   "codemirror_mode": {
    "name": "ipython",
    "version": 2
   },
   "file_extension": ".py",
   "mimetype": "text/x-python",
   "name": "python",
   "nbconvert_exporter": "python",
   "pygments_lexer": "ipython2",
   "version": "2.7.12"
  }
 },
 "nbformat": 4,
 "nbformat_minor": 1
}
