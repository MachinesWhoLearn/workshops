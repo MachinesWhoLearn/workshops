{
 "cells": [
  {
   "cell_type": "code",
   "execution_count": 1,
   "metadata": {
    "collapsed": true
   },
   "outputs": [],
   "source": [
    "from __future__ import division\n",
    "import numpy as np\n",
    "import gzip\n",
    "import cPickle\n",
    "import math\n",
    "import random\n",
    "from itertools import izip"
   ]
  },
  {
   "cell_type": "code",
   "execution_count": 45,
   "metadata": {
    "collapsed": false
   },
   "outputs": [],
   "source": [
    "with gzip.open('mnist.pkl.gz', 'rb') as f:\n",
    "    training, validation, test = [zip(*data) for data in cPickle.load(f)]\n",
    "\n",
    "for data in (training, validation, test):\n",
    "    for i in range(len(data)):\n",
    "        data[i] = (np.reshape(data[i][0], (-1, 1)), data[i][1])\n",
    "CLASSES = 10\n",
    "FEATURES = 784"
   ]
  },
  {
   "cell_type": "code",
   "execution_count": 3,
   "metadata": {
    "collapsed": true
   },
   "outputs": [],
   "source": [
    "def show_image(data):\n",
    "    from matplotlib import pyplot as plt\n",
    "    data = np.reshape(data, (28, 28))\n",
    "    plt.imshow(data, cmap='gray_r')\n",
    "    plt.show()"
   ]
  },
  {
   "cell_type": "code",
   "execution_count": 81,
   "metadata": {
    "collapsed": false
   },
   "outputs": [],
   "source": [
    "class FeedForwardNN():\n",
    "    def __init__(self, training, hidden_size, epochs=10, batch_size=1, learning_rate=0.01):\n",
    "        # set up some weights and biases, and train that shit!\n",
    "        pass\n",
    "    \n",
    "    # write the sigmoid function for numpy arrays\n",
    "    def sigmoid(self, x):\n",
    "        pass\n",
    "\n",
    "    # write the derivative of the sigmoid function, s(x)*(1-s(x))\n",
    "    def dsigmoid(self, x):\n",
    "        pass\n",
    "\n",
    "    # write the derivative of the cost function for a single training example (this is simple)\n",
    "    # remember the cost function is the L2 norm squared of y - y_hat\n",
    "    def cost_derivative(self, output_activations, y):\n",
    "        pass\n",
    "\n",
    "    # the fun part! write code to compute the gradient of the cost function for a single example\n",
    "    # with regard to all of the weights and biases\n",
    "    def backprop(self, x, y):\n",
    "        # make db and dw, the same size/shape as biases and weights\n",
    "        \n",
    "        # pass your example forward through the network, keeping track of the pre-sigmoid and post-sigmoid activations\n",
    "\n",
    "        # compute delta, the derivative of the cost function at the last step, times dsigmoid of the last set of activatins\n",
    "        # put it in the gradients\n",
    "        \n",
    "        # for layers L-1 to 0, set the gradients!\n",
    "        \n",
    "        # return that tuple homie\n",
    "\n",
    "    # write code that, given an example (and weights already trained), returns a class (0-9) for the image\n",
    "    def classify(self, example):\n",
    "        pass"
   ]
  },
  {
   "cell_type": "code",
   "execution_count": 2,
   "metadata": {
    "collapsed": false,
    "scrolled": false
   },
   "outputs": [],
   "source": [
    "def one_hot(nfeatures, val):\n",
    "    vec = np.zeros((nfeatures, 1))\n",
    "    vec[val] = 1\n",
    "    return vec\n",
    "\n",
    "#one_hot_training = [(x, one_hot(10, y)) for x, y in training]\n",
    "#m = FeedForwardNN(one_hot_training, 15, epochs=1000)"
   ]
  }
 ],
 "metadata": {
  "kernelspec": {
   "display_name": "Python 2",
   "language": "python",
   "name": "python2"
  },
  "language_info": {
   "codemirror_mode": {
    "name": "ipython",
    "version": 2
   },
   "file_extension": ".py",
   "mimetype": "text/x-python",
   "name": "python",
   "nbconvert_exporter": "python",
   "pygments_lexer": "ipython2",
   "version": "2.7.5"
  }
 },
 "nbformat": 4,
 "nbformat_minor": 1
}
