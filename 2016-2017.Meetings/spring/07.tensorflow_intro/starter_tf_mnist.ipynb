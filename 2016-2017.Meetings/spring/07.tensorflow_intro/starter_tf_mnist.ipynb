{
 "cells": [
  {
   "cell_type": "markdown",
   "metadata": {
    "deletable": true,
    "editable": true
   },
   "source": [
    "In this notebook, we want to build a logistic regression classifier in Tensorflow for MNIST.\n",
    "\n",
    "The logistic regression classifier is defined as: $y = sigmoid(Wx + b)$"
   ]
  },
  {
   "cell_type": "code",
   "execution_count": 1,
   "metadata": {
    "collapsed": true,
    "deletable": true,
    "editable": true
   },
   "outputs": [],
   "source": [
    "from __future__ import print_function\n",
    "import tensorflow as tf\n",
    "import math"
   ]
  },
  {
   "cell_type": "code",
   "execution_count": 2,
   "metadata": {
    "collapsed": true,
    "deletable": true,
    "editable": true
   },
   "outputs": [],
   "source": [
    "# Get the MNIST dataset\n",
    "from tensorflow.examples.tutorials.mnist import input_data"
   ]
  },
  {
   "cell_type": "code",
   "execution_count": 3,
   "metadata": {
    "collapsed": false,
    "deletable": true,
    "editable": true
   },
   "outputs": [
    {
     "name": "stdout",
     "output_type": "stream",
     "text": [
      "Extracting ./data/mnist/train-images-idx3-ubyte.gz\n",
      "Extracting ./data/mnist/train-labels-idx1-ubyte.gz\n",
      "Extracting ./data/mnist/t10k-images-idx3-ubyte.gz\n",
      "Extracting ./data/mnist/t10k-labels-idx1-ubyte.gz\n"
     ]
    }
   ],
   "source": [
    "# Step 0: Read in the data into the \"/data/mnist\" folder\n",
    "mnist = input_data.read_data_sets('./data/mnist', one_hot=True)"
   ]
  },
  {
   "cell_type": "code",
   "execution_count": 4,
   "metadata": {
    "collapsed": true,
    "deletable": true,
    "editable": true
   },
   "outputs": [],
   "source": [
    "# Step 1: Create placeholders to feed your inputs and labels into\n",
    "# Each MNIST image has 28*28 = 784 pixels. So you can represent it as a 1x784 Tensor.\n",
    "# There are 10 possible classes for each image, corresponding to digits 0-9.\n",
    "# Name the input placeholder \"mnist_inputs\" and the labels placeholder \"mnist_labels\"\n"
   ]
  },
  {
   "cell_type": "code",
   "execution_count": 5,
   "metadata": {
    "collapsed": false,
    "deletable": true,
    "editable": true
   },
   "outputs": [],
   "source": [
    "# Step 2: Create Variables for the parameters of the model: the weights and the bias.\n",
    "# Initialize the bias to a 0 tensor. (hint: tf.zeros)\n",
    "# Initialize the weights with a random uniform distribution, with a max of 1 and a min of -1. (hint: tf.random_uniform)\n",
    "# Be sure to think carefully about the shapes of these tensors.\n",
    "\n",
    "\n",
    "# Optional: Define a global_step variable for use in tensorboard.\n"
   ]
  },
  {
   "cell_type": "code",
   "execution_count": 6,
   "metadata": {
    "collapsed": false,
    "deletable": true,
    "editable": true
   },
   "outputs": [],
   "source": [
    "# Step 3: Build the model, stringing together your placeholders and variables to create\n",
    "# two ops: one for the logits (output right before sigmoid), and one for the probability\n",
    "# distribution generated from the model (output right after sigmoid/softmax operation).\n",
    "# tf.nn.softmax may come in handy for generating the probabilities.\n",
    "\n",
    "# Name the logits operation \"logits\", and the probability operation \"predictions\".\n"
   ]
  },
  {
   "cell_type": "code",
   "execution_count": 7,
   "metadata": {
    "collapsed": false,
    "deletable": true,
    "editable": true
   },
   "outputs": [],
   "source": [
    "# Step 4: Define your loss function. Use the cross entropy loss function, and use tensorflow's\n",
    "# built in \"tf.nn.sofmtax_cross_entropy_with_logits(logits, labels)\" function to get the xentropy\n",
    "# of each instance in the batch. Then, get the average loss of the batch.\n",
    "# Name the loss op \"loss\"\n"
   ]
  },
  {
   "cell_type": "code",
   "execution_count": 8,
   "metadata": {
    "collapsed": false,
    "deletable": true,
    "editable": true
   },
   "outputs": [],
   "source": [
    "# Step 5: Define a function to get the accuracy of your model on this batch. Name it \"accuracy\""
   ]
  },
  {
   "cell_type": "code",
   "execution_count": 9,
   "metadata": {
    "collapsed": false,
    "deletable": true,
    "editable": true
   },
   "outputs": [],
   "source": [
    "# Step 6: Define an optimizer that you want to use, and create the training operation to \n",
    "# use the optimizer to minimize the loss. Name the training operation \"train_op\"\n"
   ]
  },
  {
   "cell_type": "code",
   "execution_count": 10,
   "metadata": {
    "collapsed": true,
    "deletable": true,
    "editable": true
   },
   "outputs": [],
   "source": [
    "# Define summary ops for TensorBoard (optional). Name the summary op \"summary_op\".\n"
   ]
  },
  {
   "cell_type": "code",
   "execution_count": 11,
   "metadata": {
    "collapsed": false,
    "deletable": true,
    "editable": true
   },
   "outputs": [
    {
     "name": "stdout",
     "output_type": "stream",
     "text": [
      "Epoch 0 done! Average Train Loss: 3.5257930881755297, Average Train Accuracy: 0.37672601744186046\n",
      "Epoch 1 done! Average Train Loss: 1.0151619504357494, Average Train Accuracy: 0.7217841569767441\n",
      "Epoch 2 done! Average Train Loss: 0.6782514446696569, Average Train Accuracy: 0.8081758720930232\n",
      "Epoch 3 done! Average Train Loss: 0.5533750484156054, Average Train Accuracy: 0.8457303779069767\n",
      "Epoch 4 done! Average Train Loss: 0.48077442431172657, Average Train Accuracy: 0.8654251453488372\n",
      "Epoch 5 done! Average Train Loss: 0.44223232969295145, Average Train Accuracy: 0.8766351744186046\n",
      "Epoch 6 done! Average Train Loss: 0.41040772937758024, Average Train Accuracy: 0.885828488372093\n",
      "Epoch 7 done! Average Train Loss: 0.3893870830882427, Average Train Accuracy: 0.892078488372093\n",
      "Epoch 8 done! Average Train Loss: 0.3689094877520273, Average Train Accuracy: 0.8972565406976745\n",
      "Epoch 9 done! Average Train Loss: 0.35493913455757986, Average Train Accuracy: 0.9010901162790698\n",
      "Epoch 10 done! Average Train Loss: 0.34394710278788276, Average Train Accuracy: 0.903452034883721\n",
      "Epoch 11 done! Average Train Loss: 0.33361118087588354, Average Train Accuracy: 0.9061228197674419\n",
      "Epoch 12 done! Average Train Loss: 0.3244342766182367, Average Train Accuracy: 0.9091933139534883\n",
      "Epoch 13 done! Average Train Loss: 0.31804617849546807, Average Train Accuracy: 0.9111918604651162\n",
      "Epoch 14 done! Average Train Loss: 0.3108990905243297, Average Train Accuracy: 0.9140261627906977\n",
      "Epoch 15 done! Average Train Loss: 0.3080461789182452, Average Train Accuracy: 0.9136991279069767\n",
      "Epoch 16 done! Average Train Loss: 0.3008717404028704, Average Train Accuracy: 0.9157158430232558\n",
      "Epoch 17 done! Average Train Loss: 0.29575165127252423, Average Train Accuracy: 0.9181140988372093\n",
      "Epoch 18 done! Average Train Loss: 0.2931524786664996, Average Train Accuracy: 0.9181686046511628\n",
      "Epoch 19 done! Average Train Loss: 0.28728850321021193, Average Train Accuracy: 0.9200944767441861\n",
      "Epoch 20 done! Average Train Loss: 0.2850607742577098, Average Train Accuracy: 0.9210210755813953\n",
      "Epoch 21 done! Average Train Loss: 0.28183248285637347, Average Train Accuracy: 0.9212936046511628\n",
      "Epoch 22 done! Average Train Loss: 0.2804785714766314, Average Train Accuracy: 0.9217114825581395\n",
      "Epoch 23 done! Average Train Loss: 0.2800791971558748, Average Train Accuracy: 0.9222202034883721\n",
      "Epoch 24 done! Average Train Loss: 0.27415125137844754, Average Train Accuracy: 0.9240188953488372\n",
      "Epoch 25 done! Average Train Loss: 0.2722833371266376, Average Train Accuracy: 0.9244549418604651\n",
      "Epoch 26 done! Average Train Loss: 0.2698032872448134, Average Train Accuracy: 0.9248728197674418\n",
      "Epoch 27 done! Average Train Loss: 0.26874305933367376, Average Train Accuracy: 0.9254542151162791\n",
      "Epoch 28 done! Average Train Loss: 0.2671904688484447, Average Train Accuracy: 0.9261991279069768\n",
      "Epoch 29 done! Average Train Loss: 0.264359643171693, Average Train Accuracy: 0.9265443313953489\n",
      "Finished 30 epochs\n"
     ]
    }
   ],
   "source": [
    "# Step 7: Create a session for the model to run in, and then set up a train loop\n",
    "# to optimize the weights given the mnist data. Optionally, add tensorboard visualization too.\n",
    "nb_train_examples = mnist.train.num_examples\n",
    "batch_size = 128\n",
    "nb_epochs = 30\n",
    "batches_per_epoch = int(math.ceil(nb_train_examples/batch_size))\n",
    "log_period = 250\n",
    "\n",
    "with tf.Session() as sess:\n",
    "    # Step 7.1 Initialize your Variables\n",
    "    # Set up tensorboard writer (optional)\n",
    "    for epoch in range(nb_epochs):\n",
    "        epoch_total_loss = 0\n",
    "        epoch_total_accuracy = 0\n",
    "        \n",
    "        for batch in range(batches_per_epoch):\n",
    "            loop_global_step = sess.run(global_step) + 1\n",
    "            batch_inputs, batch_labels = mnist.train.next_batch(batch_size)\n",
    "            # Step 7.2 Get the batch loss, batch accuracy, and run the training op.\n",
    "            # If the log period is up, write summaries to tensorboard.\n",
    "\n",
    "                \n",
    "            epoch_total_loss += batch_loss\n",
    "            epoch_total_accuracy += batch_acc\n",
    "        \n",
    "        epoch_average_loss = epoch_total_loss / batches_per_epoch\n",
    "        epoch_average_accuracy = epoch_total_accuracy / batches_per_epoch\n",
    "        print(\"Epoch {} done! Average Train Loss: {}, Average Train Accuracy: {}\".format(epoch, \n",
    "                                                                                 epoch_average_loss, \n",
    "                                                                                 epoch_average_accuracy))\n",
    "    print(\"Finished {} epochs\".format(nb_epochs))"
   ]
  },
  {
   "cell_type": "code",
   "execution_count": null,
   "metadata": {
    "collapsed": true,
    "deletable": true,
    "editable": true
   },
   "outputs": [],
   "source": []
  }
 ],
 "metadata": {
  "kernelspec": {
   "display_name": "Python 3",
   "language": "python",
   "name": "python3"
  },
  "language_info": {
   "codemirror_mode": {
    "name": "ipython",
    "version": 3
   },
   "file_extension": ".py",
   "mimetype": "text/x-python",
   "name": "python",
   "nbconvert_exporter": "python",
   "pygments_lexer": "ipython3",
   "version": "3.5.0"
  }
 },
 "nbformat": 4,
 "nbformat_minor": 2
}
