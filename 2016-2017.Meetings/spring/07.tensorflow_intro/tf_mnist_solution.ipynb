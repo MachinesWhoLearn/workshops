{
 "cells": [
  {
   "cell_type": "markdown",
   "metadata": {
    "deletable": true,
    "editable": true
   },
   "source": [
    "In this notebook, we want to build a logistic regression classifier in Tensorflow for MNIST.\n",
    "\n",
    "The logistic regression classifier is defined as: $y = sigmoid(Wx + b)$"
   ]
  },
  {
   "cell_type": "code",
   "execution_count": 1,
   "metadata": {
    "collapsed": true,
    "deletable": true,
    "editable": true
   },
   "outputs": [],
   "source": [
    "from __future__ import print_function\n",
    "import tensorflow as tf\n",
    "import math"
   ]
  },
  {
   "cell_type": "code",
   "execution_count": 2,
   "metadata": {
    "collapsed": true,
    "deletable": true,
    "editable": true
   },
   "outputs": [],
   "source": [
    "# Get the MNIST dataset\n",
    "from tensorflow.examples.tutorials.mnist import input_data"
   ]
  },
  {
   "cell_type": "code",
   "execution_count": 3,
   "metadata": {
    "collapsed": false,
    "deletable": true,
    "editable": true
   },
   "outputs": [
    {
     "name": "stdout",
     "output_type": "stream",
     "text": [
      "Extracting ./data/mnist/train-images-idx3-ubyte.gz\n",
      "Extracting ./data/mnist/train-labels-idx1-ubyte.gz\n",
      "Extracting ./data/mnist/t10k-images-idx3-ubyte.gz\n",
      "Extracting ./data/mnist/t10k-labels-idx1-ubyte.gz\n"
     ]
    }
   ],
   "source": [
    "# Step 0: Read in the data into the \"/data/mnist\" folder\n",
    "mnist = input_data.read_data_sets('./data/mnist', one_hot=True)"
   ]
  },
  {
   "cell_type": "code",
   "execution_count": 4,
   "metadata": {
    "collapsed": true,
    "deletable": true,
    "editable": true
   },
   "outputs": [],
   "source": [
    "# Step 1: Create placeholders to feed your inputs and labels into\n",
    "# Each MNIST image has 28*28 = 784 pixels. So you can represent it as a 1x784 Tensor.\n",
    "# There are 10 possible classes for each image, corresponding to digits 0-9.\n",
    "# Name the input placeholder mnist_inputs and the labels placeholder mnist_labels\n",
    "mnist_inputs = tf.placeholder(\"float\", [None, 784], name=\"mnist_inputs_placeholder\") \n",
    "mnist_labels = tf.placeholder(\"float\", [None, 10], name='mnist_labels_placeholder')"
   ]
  },
  {
   "cell_type": "code",
   "execution_count": 5,
   "metadata": {
    "collapsed": false,
    "deletable": true,
    "editable": true
   },
   "outputs": [],
   "source": [
    "# Step 2: Create Variables for the parameters of the model: the weights and the bias.\n",
    "# Initialize the bias to a 0 tensor. (hint: tf.zeros)\n",
    "# Initialize the weights with a random uniform distribution, with a max of 1 and a min of -1. (hint: tf.random_uniform)\n",
    "# Be sure to think carefully about the shapes of these tensors.\n",
    "W = tf.Variable(tf.random_uniform([784, 10], -1, 1), name=\"weights\")\n",
    "b = tf.Variable(tf.zeros(shape=[1, 10]), name=\"bias\")\n",
    "\n",
    "# Optional: Define a global_step variable for use in tensorboard\n",
    "global_step = tf.Variable(0, name='global_step', trainable=False)"
   ]
  },
  {
   "cell_type": "code",
   "execution_count": 6,
   "metadata": {
    "collapsed": false,
    "deletable": true,
    "editable": true
   },
   "outputs": [],
   "source": [
    "# Step 3: Build the model, stringing together your placeholders and variables to create\n",
    "# two ops: one for the logits (output right before sigmoid), and one for the probability\n",
    "# distribution generated from the model (output right after sigmoid/softmax operation).\n",
    "# tf.nn.softmax may come in handy for generating the probabilities.\n",
    "\n",
    "# Name the logits operation \"logits\", and the probability operation \"predictions\".\n",
    "with tf.name_scope(\"model\"):\n",
    "    logits = tf.matmul(mnist_inputs, W) + b\n",
    "    predictions = tf.nn.softmax(logits)"
   ]
  },
  {
   "cell_type": "code",
   "execution_count": 7,
   "metadata": {
    "collapsed": false,
    "deletable": true,
    "editable": true
   },
   "outputs": [],
   "source": [
    "# Step 4: Define your loss function. Use the cross entropy loss function, and use tensorflow's\n",
    "# built in \"tf.nn.sofmtax_cross_entropy_with_logits(logits, labels)\" function to get the xentropy\n",
    "# of each instance in the batch. Then, get the average loss of the batch.\n",
    "# Name the loss op \"loss\"\n",
    "with tf.name_scope(\"loss\"):\n",
    "    loss = tf.reduce_mean(tf.nn.softmax_cross_entropy_with_logits(logits=logits, labels=mnist_labels, name=\"xentropy\"))"
   ]
  },
  {
   "cell_type": "code",
   "execution_count": 8,
   "metadata": {
    "collapsed": false,
    "deletable": true,
    "editable": true
   },
   "outputs": [],
   "source": [
    "# Step 5: Define a function to get the accuracy of your model on this batch. Name it \"accuracy\"\n",
    "with tf.name_scope(\"accuracy\"):\n",
    "    correct_preds = tf.equal(tf.argmax(predictions, 1), tf.argmax(mnist_labels, 1))\n",
    "    num_correct_preds = tf.reduce_sum(tf.cast(correct_preds, \"float\"))\n",
    "    accuracy = num_correct_preds / tf.cast(tf.shape(mnist_inputs)[0], \"float\")"
   ]
  },
  {
   "cell_type": "code",
   "execution_count": 9,
   "metadata": {
    "collapsed": false,
    "deletable": true,
    "editable": true
   },
   "outputs": [],
   "source": [
    "# Step 6: Define an optimizer that you want to use, and create the training operation to \n",
    "# use the optimizer to minimize the loss. Name the training operation \"train_op\"\n",
    "with tf.name_scope(\"train_op\"):\n",
    "    train_op = tf.train.AdamOptimizer().minimize(loss, global_step=global_step)"
   ]
  },
  {
   "cell_type": "code",
   "execution_count": 10,
   "metadata": {
    "collapsed": true,
    "deletable": true,
    "editable": true
   },
   "outputs": [],
   "source": [
    "# Define summary ops for TensorBoard (optional). Name the summary op \"summary_op\".\n",
    "with tf.name_scope(\"summaries\"):\n",
    "    tf.summary.scalar(\"loss\", loss)\n",
    "    tf.summary.scalar(\"accuracy\", accuracy)\n",
    "    summary_op = tf.summary.merge_all()"
   ]
  },
  {
   "cell_type": "code",
   "execution_count": 11,
   "metadata": {
    "collapsed": false,
    "deletable": true,
    "editable": true
   },
   "outputs": [
    {
     "name": "stdout",
     "output_type": "stream",
     "text": [
      "Epoch 0 done! Average Train Loss: 2.897015596267789, Average Train Accuracy: 0.4299963662790698\n",
      "Epoch 1 done! Average Train Loss: 0.8752340503903322, Average Train Accuracy: 0.7549236918604652\n",
      "Epoch 2 done! Average Train Loss: 0.6169485040182291, Average Train Accuracy: 0.8237281976744186\n",
      "Epoch 3 done! Average Train Loss: 0.5141631118779959, Average Train Accuracy: 0.8528161337209302\n",
      "Epoch 4 done! Average Train Loss: 0.4546051041677941, Average Train Accuracy: 0.8694585755813954\n",
      "Epoch 5 done! Average Train Loss: 0.41702714690635373, Average Train Accuracy: 0.8816133720930233\n",
      "Epoch 6 done! Average Train Loss: 0.39027175761239474, Average Train Accuracy: 0.8897165697674418\n",
      "Epoch 7 done! Average Train Loss: 0.3706014162925787, Average Train Accuracy: 0.8947674418604651\n",
      "Epoch 8 done! Average Train Loss: 0.35531047974214996, Average Train Accuracy: 0.9000363372093023\n",
      "Epoch 9 done! Average Train Loss: 0.3424083832044934, Average Train Accuracy: 0.9030523255813954\n",
      "Epoch 10 done! Average Train Loss: 0.3321727248298567, Average Train Accuracy: 0.9061773255813953\n",
      "Epoch 11 done! Average Train Loss: 0.32367964213670686, Average Train Accuracy: 0.9086664244186047\n",
      "Epoch 12 done! Average Train Loss: 0.3159156525031079, Average Train Accuracy: 0.9105377906976744\n",
      "Epoch 13 done! Average Train Loss: 0.3097010365232479, Average Train Accuracy: 0.912718023255814\n",
      "Epoch 14 done! Average Train Loss: 0.30510869821490244, Average Train Accuracy: 0.9147347383720931\n",
      "Epoch 15 done! Average Train Loss: 0.29900371006061865, Average Train Accuracy: 0.9164970930232558\n",
      "Epoch 16 done! Average Train Loss: 0.29407696250912757, Average Train Accuracy: 0.9177143895348837\n",
      "Epoch 17 done! Average Train Loss: 0.2915506835767003, Average Train Accuracy: 0.9183684593023256\n",
      "Epoch 18 done! Average Train Loss: 0.28732495084404946, Average Train Accuracy: 0.920530523255814\n",
      "Epoch 19 done! Average Train Loss: 0.2851139917449896, Average Train Accuracy: 0.9208393895348838\n",
      "Epoch 20 done! Average Train Loss: 0.28074602621585826, Average Train Accuracy: 0.9220021802325581\n",
      "Epoch 21 done! Average Train Loss: 0.27800248303385666, Average Train Accuracy: 0.922983284883721\n",
      "Epoch 22 done! Average Train Loss: 0.2772585492147956, Average Train Accuracy: 0.9238190406976744\n",
      "Epoch 23 done! Average Train Loss: 0.2732218886357407, Average Train Accuracy: 0.9239825581395349\n",
      "Epoch 24 done! Average Train Loss: 0.27258983077697974, Average Train Accuracy: 0.9244004360465117\n",
      "Epoch 25 done! Average Train Loss: 0.2701580643307331, Average Train Accuracy: 0.9251090116279069\n",
      "Epoch 26 done! Average Train Loss: 0.26765816527050595, Average Train Accuracy: 0.9261082848837209\n",
      "Epoch 27 done! Average Train Loss: 0.2651886691707511, Average Train Accuracy: 0.9265261627906977\n",
      "Epoch 28 done! Average Train Loss: 0.26430266802740654, Average Train Accuracy: 0.9260174418604651\n",
      "Epoch 29 done! Average Train Loss: 0.26353419972367065, Average Train Accuracy: 0.9278888081395349\n",
      "Finished 30 epochs\n"
     ]
    }
   ],
   "source": [
    "# Step 7: Create a session for the model to run in, and then set up a train loop\n",
    "# to optimize the weights given the mnist data. Optionally, add tensorboard visualization too.\n",
    "nb_train_examples = mnist.train.num_examples\n",
    "batch_size = 128\n",
    "nb_epochs = 30\n",
    "batches_per_epoch = int(math.ceil(nb_train_examples/batch_size))\n",
    "log_period = 250\n",
    "\n",
    "with tf.Session() as sess:\n",
    "    # Step 7.1 Initialize your Variables\n",
    "    sess.run(tf.global_variables_initializer())\n",
    "    # Set up tensorboard writer (optional)\n",
    "    train_writer = tf.summary.FileWriter(\"./logs/train\",\n",
    "                                         sess.graph)\n",
    "    for epoch in range(nb_epochs):\n",
    "        epoch_total_loss = 0\n",
    "        epoch_total_accuracy = 0\n",
    "        \n",
    "        for batch in range(batches_per_epoch):\n",
    "            loop_global_step = sess.run(global_step) + 1\n",
    "            batch_inputs, batch_labels = mnist.train.next_batch(batch_size)\n",
    "            # Step 7.2 Get the batch loss, batch accuracy, and run the training op.\n",
    "            # If the log period is up, write summaries to tensorboard.\n",
    "            batch_loss, batch_acc, _ = sess.run([loss, accuracy, train_op], \n",
    "                                         feed_dict={mnist_inputs: batch_inputs, \n",
    "                                                    mnist_labels: batch_labels})\n",
    "            if loop_global_step % log_period == 0:\n",
    "                train_summary = sess.run(summary_op, \n",
    "                                         feed_dict={mnist_inputs: batch_inputs, \n",
    "                                                    mnist_labels: batch_labels})\n",
    "                train_writer.add_summary(train_summary, loop_global_step)\n",
    "                \n",
    "            epoch_total_loss += batch_loss\n",
    "            epoch_total_accuracy += batch_acc\n",
    "        \n",
    "        epoch_average_loss = epoch_total_loss / batches_per_epoch\n",
    "        epoch_average_accuracy = epoch_total_accuracy / batches_per_epoch\n",
    "        print(\"Epoch {} done! Average Train Loss: {}, Average Train Accuracy: {}\".format(epoch, \n",
    "                                                                                 epoch_average_loss, \n",
    "                                                                                 epoch_average_accuracy))\n",
    "    print(\"Finished {} epochs\".format(nb_epochs))"
   ]
  }
 ],
 "metadata": {
  "kernelspec": {
   "display_name": "Python 3",
   "language": "python",
   "name": "python3"
  },
  "language_info": {
   "codemirror_mode": {
    "name": "ipython",
    "version": 3
   },
   "file_extension": ".py",
   "mimetype": "text/x-python",
   "name": "python",
   "nbconvert_exporter": "python",
   "pygments_lexer": "ipython3",
   "version": "3.5.0"
  }
 },
 "nbformat": 4,
 "nbformat_minor": 2
}
