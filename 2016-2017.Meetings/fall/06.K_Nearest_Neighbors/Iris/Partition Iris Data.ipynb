{
 "cells": [
  {
   "cell_type": "code",
   "execution_count": 44,
   "metadata": {
    "collapsed": false
   },
   "outputs": [],
   "source": [
    "import math\n",
    "import random\n",
    "\n",
    "# Here the goal is to partition iris.data into a training and test set.\n",
    "\n",
    "species_conv = {'Iris-setosa': 1, 'Iris-versicolor': 2, 'Iris-virginica': 3}\n",
    "def convertLine(attr1, attr2, attr3, attr4, label):\n",
    "    return [attr1, attr2, attr3, attr4, species_conv[label]]\n",
    "\n",
    "def irisArrayToString(arr):\n",
    "    return (\",\".join([str(elm) for elm in arr])) + \"\\n\""
   ]
  },
  {
   "cell_type": "code",
   "execution_count": 45,
   "metadata": {
    "collapsed": false
   },
   "outputs": [],
   "source": [
    "TESTS_PER_CLASS = 10\n",
    "with open('bezdekIris.data', 'r') as data, \\\n",
    "    open(\"iris_test.data\", \"w\") as test_file, \\\n",
    "    open(\"iris_train.data\", \"w\") as train_file:\n",
    "        \n",
    "    converted_data = [convertLine(*str.split(str.strip(line_uc), \",\")) for line_uc in data]\n",
    "    classes = [1, 2, 3]\n",
    "    # Parition data into classes, to ensure even break between the test and training file\n",
    "    converted_data_1, converted_data_2, converted_data_3 = [[datum for datum in converted_data if datum[-1] == clazz] \n",
    "                                                            for clazz in classes]\n",
    "    random.shuffle(converted_data_1)\n",
    "    random.shuffle(converted_data_2)\n",
    "    random.shuffle(converted_data_3)\n",
    "    \n",
    "    converted_data_partitoned = [(elm1, elm2, elm3) for elm1, elm2, elm3 in zip(converted_data_1, converted_data_2, converted_data_3)]\n",
    "    for outSet in converted_data_partitoned[0:TESTS_PER_CLASS]:\n",
    "        for datum in outSet:\n",
    "            test_file.write(irisArrayToString(datum))\n",
    "    for outSet in converted_data_partitoned[TESTS_PER_CLASS:-1]:\n",
    "        for datum in outSet:\n",
    "            train_file.write(irisArrayToString(datum))\n",
    "    "
   ]
  },
  {
   "cell_type": "code",
   "execution_count": 5,
   "metadata": {
    "collapsed": false
   },
   "outputs": [
    {
     "data": {
      "text/plain": [
       "'5.7,2.8,4.1,1.3,2\\n'"
      ]
     },
     "execution_count": 5,
     "metadata": {},
     "output_type": "execute_result"
    }
   ],
   "source": [
    "test = \"5.7,2.8,4.1,1.3,Iris-versicolor\"\n",
    "str(convertLine(*str.split(test, \",\")))"
   ]
  }
 ],
 "metadata": {
  "kernelspec": {
   "display_name": "Python 2",
   "language": "python",
   "name": "python2"
  },
  "language_info": {
   "codemirror_mode": {
    "name": "ipython",
    "version": 2
   },
   "file_extension": ".py",
   "mimetype": "text/x-python",
   "name": "python",
   "nbconvert_exporter": "python",
   "pygments_lexer": "ipython2",
   "version": "2.7.11"
  }
 },
 "nbformat": 4,
 "nbformat_minor": 0
}
