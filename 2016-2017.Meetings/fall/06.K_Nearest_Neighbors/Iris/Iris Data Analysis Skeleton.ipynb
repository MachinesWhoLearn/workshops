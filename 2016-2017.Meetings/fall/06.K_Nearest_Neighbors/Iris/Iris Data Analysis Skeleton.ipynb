{
 "cells": [
  {
   "cell_type": "code",
   "execution_count": 2,
   "metadata": {
    "collapsed": false
   },
   "outputs": [],
   "source": [
    "import matplotlib.pyplot as plt\n",
    "%matplotlib inline\n",
    "\n",
    "# load data\n",
    "# The result will be two lists of tuples, processed_training_data and processed_testing_data.\n",
    "# Each tuple in the list will have only two parts: data and label (in that order)\n",
    "# The data is a list of numerical attributes stored as floats.\n",
    "# The label is a single float that represents the label.\n",
    "with open(\"iris_train.data\", 'r') as raw_training_data:\n",
    "    processed_training_data = [[float(x) for x in str.split(raw_datum, \",\")] for raw_datum in raw_training_data]\n",
    "    processed_training_data = [(datapoint[0:-2], datapoint[-1]) for datapoint in processed_training_data]\n",
    "\n",
    "with open(\"iris_test.data\", 'r') as raw_test_data:\n",
    "    processed_test_data = [[float(x) for x in str.split(raw_datum, \",\")] for raw_datum in raw_test_data]\n",
    "    processed_test_data = [(datapoint[0:-2], datapoint[-1]) for datapoint in processed_test_data]"
   ]
  },
  {
   "cell_type": "code",
   "execution_count": 3,
   "metadata": {
    "collapsed": false
   },
   "outputs": [],
   "source": [
    "def distance(vec1, vec2):\n",
    "    # calculate the distance between two vectors, or data points. \n",
    "    pass;\n",
    "\n",
    "def majority_vote(labels):\n",
    "    # labels is expected to be a list of labels (in this case floats) from nearest to furtherest.\n",
    "    # Figure out which label is most represented and what to do if there are ties. \n",
    "    # Hint: import Counter\n",
    "    pass;\n",
    "\n",
    "def knn_classify(k, labeled_points, new_point):\n",
    "    # k is an int\n",
    "    # labeled_points will most likely be the training_data, whose format is described above.\n",
    "    # new_point will be a list of numerical attributes that represents a new, unlabelled data point.\n",
    "    pass;"
   ]
  },
  {
   "cell_type": "code",
   "execution_count": 4,
   "metadata": {
    "collapsed": false
   },
   "outputs": [
    {
     "name": "stdout",
     "output_type": "stream",
     "text": [
      "Accuracy = 0.00\n"
     ]
    }
   ],
   "source": [
    "def run_test(test_data_entry, k=1):\n",
    "    predicted_label = knn_classify(k, processed_training_data, test_data_entry[0])\n",
    "    given_label = test_data_entry[1]\n",
    "    return (1 if given_label == predicted_label else 0, predicted_label, given_label);\n",
    "\n",
    "full_test_results = [run_test(datum) for datum in processed_test_data]\n",
    "test_results = [result[0] for result in full_test_results]\n",
    "accuracy = float(sum(test_results)) / len(test_results)\n",
    "print \"\"\"Accuracy = %0.2f\"\"\"%(accuracy)"
   ]
  },
  {
   "cell_type": "code",
   "execution_count": 5,
   "metadata": {
    "collapsed": false
   },
   "outputs": [
    {
     "data": {
      "text/plain": [
       "[<matplotlib.lines.Line2D at 0x7b4df28>]"
      ]
     },
     "execution_count": 5,
     "metadata": {},
     "output_type": "execute_result"
    },
    {
     "data": {
      "image/png": "[encoded data removed]",
      "text/plain": [
       "<matplotlib.figure.Figure at 0x44dc6d8>"
      ]
     },
     "metadata": {},
     "output_type": "display_data"
    }
   ],
   "source": [
    "K_RANGE = range(1, 120)\n",
    "accuracy_for_k = range(0, len(K_RANGE)) # Only as placeholder\n",
    "for idx, k in enumerate(K_RANGE):\n",
    "    test_results = [run_test(datum, k)[0] for datum in processed_test_data]\n",
    "    accuracy_for_k[idx] = float(sum(test_results)) / len(test_results)\n",
    "    \n",
    "plt.plot(K_RANGE, accuracy_for_k)"
   ]
  }
 ],
 "metadata": {
  "kernelspec": {
   "display_name": "Python 2",
   "language": "python",
   "name": "python2"
  },
  "language_info": {
   "codemirror_mode": {
    "name": "ipython",
    "version": 2
   },
   "file_extension": ".py",
   "mimetype": "text/x-python",
   "name": "python",
   "nbconvert_exporter": "python",
   "pygments_lexer": "ipython2",
   "version": "2.7.11"
  }
 },
 "nbformat": 4,
 "nbformat_minor": 0
}
