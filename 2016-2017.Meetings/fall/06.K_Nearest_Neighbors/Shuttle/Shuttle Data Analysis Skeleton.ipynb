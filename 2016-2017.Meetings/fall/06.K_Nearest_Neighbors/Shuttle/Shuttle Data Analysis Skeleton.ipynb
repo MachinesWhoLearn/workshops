{
 "cells": [
  {
   "cell_type": "code",
   "execution_count": 12,
   "metadata": {
    "collapsed": false
   },
   "outputs": [],
   "source": [
    "import matplotlib.pyplot as plt\n",
    "%matplotlib inline\n",
    "\n",
    "USE_TOY_DATA = True\n",
    "TRAINING_DATA_FILE = \"\"\"shuttle_%strain.data\"\"\"%(\"toy_\" if USE_TOY_DATA else \"\")\n",
    "TESTING_DATA_FILE = \"\"\"shuttle_%stest.data\"\"\"%(\"toy_\" if USE_TOY_DATA else \"\")\n",
    "# load data\n",
    "with open(TRAINING_DATA_FILE, 'r') as raw_training_data:\n",
    "    processed_training_data = [[float(str.strip(x)) for x in str.split(raw_datum, \" \")] for raw_datum in raw_training_data]\n",
    "    processed_training_data = [(datapoint[0:-2], datapoint[-1]) for datapoint in processed_training_data]\n",
    "\n",
    "with open(TESTING_DATA_FILE, 'r') as raw_test_data:\n",
    "    processed_test_data = [[float(str.strip(x)) for x in str.split(raw_datum, \" \")] for raw_datum in raw_test_data]\n",
    "    processed_test_data = [(datapoint[0:-2], datapoint[-1]) for datapoint in processed_test_data]"
   ]
  },
  {
   "cell_type": "code",
   "execution_count": 13,
   "metadata": {
    "collapsed": true
   },
   "outputs": [],
   "source": [
    "def distance(vec1, vec2):\n",
    "    # calculate the distance between two vectors, or data points. \n",
    "    pass;\n",
    "\n",
    "def majority_vote(labels):\n",
    "    # labels is expected to be a list of labels (in this case floats) from nearest to furtherest.\n",
    "    # Figure out which label is most represented and what to do if there are ties. \n",
    "    # Hint: import Counter\n",
    "    pass;\n",
    "\n",
    "def knn_classify(k, labeled_points, new_point):\n",
    "    # k is an int\n",
    "    # labeled_points will most likely be the training_data, whose format is described above.\n",
    "    # new_point will be a list of numerical attributes that represents a new, unlabelled data point.\n",
    "    pass;"
   ]
  },
  {
   "cell_type": "code",
   "execution_count": 14,
   "metadata": {
    "collapsed": false
   },
   "outputs": [
    {
     "name": "stdout",
     "output_type": "stream",
     "text": [
      "Accuracy = 0.00\n"
     ]
    }
   ],
   "source": [
    "def run_test(test_data_entry, k=1):\n",
    "    predicted_label = knn_classify(k, processed_training_data, test_data_entry[0])\n",
    "    given_label = test_data_entry[1]\n",
    "    return (1 if given_label == predicted_label else 0, predicted_label, given_label);\n",
    "\n",
    "if (USE_TOY_DATA):\n",
    "    full_test_results = [run_test(datum) for datum in processed_test_data]\n",
    "    test_results = [result[0] for result in full_test_results]\n",
    "    accuracy = float(sum(test_results)) / len(test_results)\n",
    "    print \"\"\"Accuracy = %0.2f\"\"\"%(accuracy)\n",
    "else:\n",
    "    test_results = range(0, len(processed_test_data))\n",
    "    for idx, datum in enumerate(processed_test_data):\n",
    "        test_results[idx] = run_test(datum)[0]\n",
    "        if idx != 0 and idx % 100 == 0:\n",
    "            print \"\"\"Accuracy at iteration %d = %0.2f\"\"\"%(idx, float(sum(test_results[0:idx])) / len(test_results[0:idx]))\n",
    "\n",
    "    accuracy = float(sum(test_results)) / len(test_results)\n",
    "    print \"\"\"Accuracy = %0.2f\"\"\"%(accuracy)"
   ]
  },
  {
   "cell_type": "code",
   "execution_count": 15,
   "metadata": {
    "collapsed": false
   },
   "outputs": [
    {
     "name": "stdout",
     "output_type": "stream",
     "text": [
      "Counter({1.0: 98, 4.0: 16, 5.0: 8})\n",
      "Counter({1.0: 3305, 4.0: 704, 5.0: 230, 3.0: 12, 7.0: 2, 2.0: 1, 6.0: 1})\n",
      "0.0\n"
     ]
    }
   ],
   "source": [
    "print Counter([datum[1] for datum in processed_test_data])\n",
    "print Counter([datum[1] for datum in processed_training_data])\n",
    "print accuracy"
   ]
  }
 ],
 "metadata": {
  "kernelspec": {
   "display_name": "Python 2",
   "language": "python",
   "name": "python2"
  },
  "language_info": {
   "codemirror_mode": {
    "name": "ipython",
    "version": 2
   },
   "file_extension": ".py",
   "mimetype": "text/x-python",
   "name": "python",
   "nbconvert_exporter": "python",
   "pygments_lexer": "ipython2",
   "version": "2.7.11"
  }
 },
 "nbformat": 4,
 "nbformat_minor": 0
}
