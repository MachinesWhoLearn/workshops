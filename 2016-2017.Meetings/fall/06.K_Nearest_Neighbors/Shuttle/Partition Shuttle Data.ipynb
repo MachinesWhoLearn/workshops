{
 "cells": [
  {
   "cell_type": "code",
   "execution_count": 11,
   "metadata": {
    "collapsed": true
   },
   "outputs": [],
   "source": [
    "import math\n",
    "import random\n",
    "\n",
    "with open('shuttle.trn', 'r') as input_data, \\\n",
    "    open('shuttle.data', 'w') as output_data, \\\n",
    "    open('shuttle_toy.data', 'w') as output_toy_data:\n",
    "    for line in input_data:\n",
    "        output_data.write(line)\n",
    "        if math.floor(10*random.random()) == 1:\n",
    "            output_toy_data.write(line)"
   ]
  },
  {
   "cell_type": "code",
   "execution_count": 12,
   "metadata": {
    "collapsed": false
   },
   "outputs": [],
   "source": [
    "with open('shuttle.data', 'r') as data, \\\n",
    "    open(\"shuttle_test.data\", \"w\") as test_file, \\\n",
    "    open(\"shuttle_train.data\", \"w\") as train_file:\n",
    "    for line_c in data:\n",
    "        if math.floor(30*random.random()) == 1:\n",
    "            test_file.write(line_c)\n",
    "        else:\n",
    "            train_file.write(line_c)\n",
    "            \n",
    "with open('shuttle_toy.data', 'r') as data, \\\n",
    "    open(\"shuttle_toy_test.data\", \"w\") as test_file, \\\n",
    "    open(\"shuttle_toy_train.data\", \"w\") as train_file:\n",
    "    for line_c in data:\n",
    "        if math.floor(30*random.random()) == 1:\n",
    "            test_file.write(line_c)\n",
    "        else:\n",
    "            train_file.write(line_c)"
   ]
  }
 ],
 "metadata": {
  "kernelspec": {
   "display_name": "Python 2",
   "language": "python",
   "name": "python2"
  },
  "language_info": {
   "codemirror_mode": {
    "name": "ipython",
    "version": 2
   },
   "file_extension": ".py",
   "mimetype": "text/x-python",
   "name": "python",
   "nbconvert_exporter": "python",
   "pygments_lexer": "ipython2",
   "version": "2.7.11"
  }
 },
 "nbformat": 4,
 "nbformat_minor": 0
}
